{
 "cells": [
  {
   "cell_type": "markdown",
   "metadata": {},
   "source": [
    "## Diamond Price Prediction"
   ]
  },
  {
   "cell_type": "markdown",
   "metadata": {},
   "source": [
    "### Introduction About the Data :\n",
    "\n",
    "**The dataset** The goal is to predict `price` of given diamond (Regression Analysis).\n",
    "\n",
    "There are 10 independent variables (including `id`):\n",
    "\n",
    "* `id` : unique identifier of each diamond\n",
    "* `carat` : Carat (ct.) refers to the unique unit of weight measurement used exclusively to weigh gemstones and diamonds.\n",
    "* `cut` : Quality of Diamond Cut\n",
    "* `color` : Color of Diamond\n",
    "* `clarity` : Diamond clarity is a measure of the purity and rarity of the stone, graded by the visibility of these characteristics under 10-power magnification.\n",
    "* `depth` : The depth of diamond is its height (in millimeters) measured from the culet (bottom tip) to the table (flat, top surface)\n",
    "* `table` : A diamond's table is the facet which can be seen when the stone is viewed face up.\n",
    "* `x` : Diamond X dimension\n",
    "* `y` : Diamond Y dimension\n",
    "* `x` : Diamond Z dimension\n",
    "\n",
    "Target variable:\n",
    "* `price`: Price of the given Diamond.\n",
    "\n",
    "Dataset Source Link :\n",
    "[https://www.kaggle.com/competitions/playground-series-s3e8/data?select=train.csv](https://www.kaggle.com/competitions/playground-series-s3e8/data?select=train.csv)"
   ]
  },
  {
   "cell_type": "markdown",
   "metadata": {},
   "source": []
  }
 ],
 "metadata": {
  "language_info": {
   "name": "python"
  }
 },
 "nbformat": 4,
 "nbformat_minor": 2
}
